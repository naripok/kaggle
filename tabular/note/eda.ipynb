{
 "cells": [
  {
   "cell_type": "code",
   "execution_count": 1,
   "metadata": {
    "_cell_guid": "b1076dfc-b9ad-4769-8c92-a6c4dae69d19",
    "_uuid": "8f2839f25d086af736a60e9eeb907d3b93b6e0e5",
    "tags": []
   },
   "outputs": [],
   "source": [
    "import pandas as pd\n",
    "from sklearn.model_selection import train_test_split\n",
    "from sklearn.preprocessing import StandardScaler\n",
    "from sklearn.feature_selection import SelectKBest, f_classif\n",
    "from sklearn.impute import SimpleImputer\n",
    "from sklearn.linear_model import LogisticRegression\n",
    "from sklearn.neural_network import MLPClassifier\n",
    "from sklearn.ensemble import GradientBoostingClassifier, RandomForestClassifier\n",
    "from sklearn.preprocessing import PowerTransformer\n",
    "from sklearn.pipeline import make_pipeline\n",
    "import seaborn as sns"
   ]
  },
  {
   "cell_type": "code",
   "execution_count": 2,
   "metadata": {
    "tags": []
   },
   "outputs": [],
   "source": [
    "train_df = pd.read_csv('./input/train.csv.zip')\n",
    "test_df = pd.read_csv('./input/test.csv.zip')"
   ]
  },
  {
   "cell_type": "markdown",
   "metadata": {},
   "source": [
    "## EDA"
   ]
  },
  {
   "cell_type": "code",
   "execution_count": 3,
   "metadata": {
    "tags": []
   },
   "outputs": [
    {
     "data": {
      "text/html": [
       "<div>\n",
       "<style scoped>\n",
       "    .dataframe tbody tr th:only-of-type {\n",
       "        vertical-align: middle;\n",
       "    }\n",
       "\n",
       "    .dataframe tbody tr th {\n",
       "        vertical-align: top;\n",
       "    }\n",
       "\n",
       "    .dataframe thead th {\n",
       "        text-align: right;\n",
       "    }\n",
       "</style>\n",
       "<table border=\"1\" class=\"dataframe\">\n",
       "  <thead>\n",
       "    <tr style=\"text-align: right;\">\n",
       "      <th></th>\n",
       "      <th>id</th>\n",
       "      <th>f1</th>\n",
       "      <th>f2</th>\n",
       "      <th>f3</th>\n",
       "      <th>f4</th>\n",
       "      <th>f5</th>\n",
       "      <th>f6</th>\n",
       "      <th>f7</th>\n",
       "      <th>f8</th>\n",
       "      <th>f9</th>\n",
       "      <th>...</th>\n",
       "      <th>f110</th>\n",
       "      <th>f111</th>\n",
       "      <th>f112</th>\n",
       "      <th>f113</th>\n",
       "      <th>f114</th>\n",
       "      <th>f115</th>\n",
       "      <th>f116</th>\n",
       "      <th>f117</th>\n",
       "      <th>f118</th>\n",
       "      <th>claim</th>\n",
       "    </tr>\n",
       "  </thead>\n",
       "  <tbody>\n",
       "    <tr>\n",
       "      <th>count</th>\n",
       "      <td>957919.000000</td>\n",
       "      <td>942672.000000</td>\n",
       "      <td>942729.000000</td>\n",
       "      <td>942428.000000</td>\n",
       "      <td>942359.000000</td>\n",
       "      <td>942514.000000</td>\n",
       "      <td>942398.000000</td>\n",
       "      <td>942415.000000</td>\n",
       "      <td>9.425460e+05</td>\n",
       "      <td>9.426700e+05</td>\n",
       "      <td>...</td>\n",
       "      <td>942554.000000</td>\n",
       "      <td>942420.000000</td>\n",
       "      <td>942509.000000</td>\n",
       "      <td>942686.000000</td>\n",
       "      <td>942481.000000</td>\n",
       "      <td>942360.000000</td>\n",
       "      <td>9.423300e+05</td>\n",
       "      <td>942512.000000</td>\n",
       "      <td>942707.000000</td>\n",
       "      <td>957919.000000</td>\n",
       "    </tr>\n",
       "    <tr>\n",
       "      <th>mean</th>\n",
       "      <td>478959.000000</td>\n",
       "      <td>0.090201</td>\n",
       "      <td>0.345964</td>\n",
       "      <td>4068.744207</td>\n",
       "      <td>0.201214</td>\n",
       "      <td>0.304869</td>\n",
       "      <td>-0.071458</td>\n",
       "      <td>1620.843815</td>\n",
       "      <td>3.771642e+05</td>\n",
       "      <td>1.806054e+15</td>\n",
       "      <td>...</td>\n",
       "      <td>-19.926398</td>\n",
       "      <td>2.074530</td>\n",
       "      <td>23.885245</td>\n",
       "      <td>1.748777</td>\n",
       "      <td>63152.973540</td>\n",
       "      <td>1.208876</td>\n",
       "      <td>4.276905e+16</td>\n",
       "      <td>3959.204669</td>\n",
       "      <td>0.559267</td>\n",
       "      <td>0.498492</td>\n",
       "    </tr>\n",
       "    <tr>\n",
       "      <th>std</th>\n",
       "      <td>276527.540593</td>\n",
       "      <td>0.043564</td>\n",
       "      <td>0.146251</td>\n",
       "      <td>6415.829440</td>\n",
       "      <td>0.212510</td>\n",
       "      <td>0.145343</td>\n",
       "      <td>2.123777</td>\n",
       "      <td>1276.281403</td>\n",
       "      <td>3.454325e+05</td>\n",
       "      <td>2.335204e+15</td>\n",
       "      <td>...</td>\n",
       "      <td>18.578439</td>\n",
       "      <td>0.895793</td>\n",
       "      <td>45.581360</td>\n",
       "      <td>10.088848</td>\n",
       "      <td>92435.016241</td>\n",
       "      <td>0.114959</td>\n",
       "      <td>6.732441e+16</td>\n",
       "      <td>3155.991777</td>\n",
       "      <td>0.408426</td>\n",
       "      <td>0.499998</td>\n",
       "    </tr>\n",
       "    <tr>\n",
       "      <th>min</th>\n",
       "      <td>0.000000</td>\n",
       "      <td>-0.149910</td>\n",
       "      <td>-0.019044</td>\n",
       "      <td>-9421.700000</td>\n",
       "      <td>-0.082122</td>\n",
       "      <td>-0.006990</td>\n",
       "      <td>-12.791000</td>\n",
       "      <td>-224.800000</td>\n",
       "      <td>-2.984300e+04</td>\n",
       "      <td>-1.153300e+15</td>\n",
       "      <td>...</td>\n",
       "      <td>-105.860000</td>\n",
       "      <td>0.277040</td>\n",
       "      <td>-27.691000</td>\n",
       "      <td>-26.589000</td>\n",
       "      <td>-81977.000000</td>\n",
       "      <td>0.905270</td>\n",
       "      <td>-8.944400e+15</td>\n",
       "      <td>-415.240000</td>\n",
       "      <td>-0.151240</td>\n",
       "      <td>0.000000</td>\n",
       "    </tr>\n",
       "    <tr>\n",
       "      <th>25%</th>\n",
       "      <td>239479.500000</td>\n",
       "      <td>0.070227</td>\n",
       "      <td>0.283050</td>\n",
       "      <td>418.430000</td>\n",
       "      <td>0.035086</td>\n",
       "      <td>0.240520</td>\n",
       "      <td>-1.120700</td>\n",
       "      <td>481.545000</td>\n",
       "      <td>9.120900e+04</td>\n",
       "      <td>1.153100e+13</td>\n",
       "      <td>...</td>\n",
       "      <td>-28.812000</td>\n",
       "      <td>1.487700</td>\n",
       "      <td>-0.628880</td>\n",
       "      <td>-4.473975</td>\n",
       "      <td>2443.200000</td>\n",
       "      <td>1.146800</td>\n",
       "      <td>2.321100e+14</td>\n",
       "      <td>1306.200000</td>\n",
       "      <td>0.276560</td>\n",
       "      <td>0.000000</td>\n",
       "    </tr>\n",
       "    <tr>\n",
       "      <th>50%</th>\n",
       "      <td>478959.000000</td>\n",
       "      <td>0.090135</td>\n",
       "      <td>0.389100</td>\n",
       "      <td>1279.500000</td>\n",
       "      <td>0.137000</td>\n",
       "      <td>0.327790</td>\n",
       "      <td>-0.380110</td>\n",
       "      <td>1446.100000</td>\n",
       "      <td>2.896700e+05</td>\n",
       "      <td>5.043050e+14</td>\n",
       "      <td>...</td>\n",
       "      <td>-14.636000</td>\n",
       "      <td>1.662100</td>\n",
       "      <td>1.727700</td>\n",
       "      <td>0.885710</td>\n",
       "      <td>19479.000000</td>\n",
       "      <td>1.177200</td>\n",
       "      <td>1.327500e+16</td>\n",
       "      <td>3228.000000</td>\n",
       "      <td>0.473440</td>\n",
       "      <td>0.000000</td>\n",
       "    </tr>\n",
       "    <tr>\n",
       "      <th>75%</th>\n",
       "      <td>718438.500000</td>\n",
       "      <td>0.116500</td>\n",
       "      <td>0.458450</td>\n",
       "      <td>4444.400000</td>\n",
       "      <td>0.297100</td>\n",
       "      <td>0.412830</td>\n",
       "      <td>0.921940</td>\n",
       "      <td>2495.900000</td>\n",
       "      <td>5.605600e+05</td>\n",
       "      <td>3.103100e+15</td>\n",
       "      <td>...</td>\n",
       "      <td>-5.325300</td>\n",
       "      <td>2.522325</td>\n",
       "      <td>18.991000</td>\n",
       "      <td>6.840775</td>\n",
       "      <td>88488.000000</td>\n",
       "      <td>1.242000</td>\n",
       "      <td>5.278700e+16</td>\n",
       "      <td>6137.900000</td>\n",
       "      <td>0.746210</td>\n",
       "      <td>1.000000</td>\n",
       "    </tr>\n",
       "    <tr>\n",
       "      <th>max</th>\n",
       "      <td>957918.000000</td>\n",
       "      <td>0.415170</td>\n",
       "      <td>0.518990</td>\n",
       "      <td>39544.000000</td>\n",
       "      <td>1.319900</td>\n",
       "      <td>0.554750</td>\n",
       "      <td>11.202000</td>\n",
       "      <td>5426.600000</td>\n",
       "      <td>1.913700e+06</td>\n",
       "      <td>1.042400e+16</td>\n",
       "      <td>...</td>\n",
       "      <td>1.613400</td>\n",
       "      <td>4.565900</td>\n",
       "      <td>217.840000</td>\n",
       "      <td>47.757000</td>\n",
       "      <td>526050.000000</td>\n",
       "      <td>1.886700</td>\n",
       "      <td>3.249900e+17</td>\n",
       "      <td>13151.000000</td>\n",
       "      <td>2.743600</td>\n",
       "      <td>1.000000</td>\n",
       "    </tr>\n",
       "  </tbody>\n",
       "</table>\n",
       "<p>8 rows × 120 columns</p>\n",
       "</div>"
      ],
      "text/plain": [
       "                  id             f1             f2             f3  \\\n",
       "count  957919.000000  942672.000000  942729.000000  942428.000000   \n",
       "mean   478959.000000       0.090201       0.345964    4068.744207   \n",
       "std    276527.540593       0.043564       0.146251    6415.829440   \n",
       "min         0.000000      -0.149910      -0.019044   -9421.700000   \n",
       "25%    239479.500000       0.070227       0.283050     418.430000   \n",
       "50%    478959.000000       0.090135       0.389100    1279.500000   \n",
       "75%    718438.500000       0.116500       0.458450    4444.400000   \n",
       "max    957918.000000       0.415170       0.518990   39544.000000   \n",
       "\n",
       "                  f4             f5             f6             f7  \\\n",
       "count  942359.000000  942514.000000  942398.000000  942415.000000   \n",
       "mean        0.201214       0.304869      -0.071458    1620.843815   \n",
       "std         0.212510       0.145343       2.123777    1276.281403   \n",
       "min        -0.082122      -0.006990     -12.791000    -224.800000   \n",
       "25%         0.035086       0.240520      -1.120700     481.545000   \n",
       "50%         0.137000       0.327790      -0.380110    1446.100000   \n",
       "75%         0.297100       0.412830       0.921940    2495.900000   \n",
       "max         1.319900       0.554750      11.202000    5426.600000   \n",
       "\n",
       "                 f8            f9  ...           f110           f111  \\\n",
       "count  9.425460e+05  9.426700e+05  ...  942554.000000  942420.000000   \n",
       "mean   3.771642e+05  1.806054e+15  ...     -19.926398       2.074530   \n",
       "std    3.454325e+05  2.335204e+15  ...      18.578439       0.895793   \n",
       "min   -2.984300e+04 -1.153300e+15  ...    -105.860000       0.277040   \n",
       "25%    9.120900e+04  1.153100e+13  ...     -28.812000       1.487700   \n",
       "50%    2.896700e+05  5.043050e+14  ...     -14.636000       1.662100   \n",
       "75%    5.605600e+05  3.103100e+15  ...      -5.325300       2.522325   \n",
       "max    1.913700e+06  1.042400e+16  ...       1.613400       4.565900   \n",
       "\n",
       "                f112           f113           f114           f115  \\\n",
       "count  942509.000000  942686.000000  942481.000000  942360.000000   \n",
       "mean       23.885245       1.748777   63152.973540       1.208876   \n",
       "std        45.581360      10.088848   92435.016241       0.114959   \n",
       "min       -27.691000     -26.589000  -81977.000000       0.905270   \n",
       "25%        -0.628880      -4.473975    2443.200000       1.146800   \n",
       "50%         1.727700       0.885710   19479.000000       1.177200   \n",
       "75%        18.991000       6.840775   88488.000000       1.242000   \n",
       "max       217.840000      47.757000  526050.000000       1.886700   \n",
       "\n",
       "               f116           f117           f118          claim  \n",
       "count  9.423300e+05  942512.000000  942707.000000  957919.000000  \n",
       "mean   4.276905e+16    3959.204669       0.559267       0.498492  \n",
       "std    6.732441e+16    3155.991777       0.408426       0.499998  \n",
       "min   -8.944400e+15    -415.240000      -0.151240       0.000000  \n",
       "25%    2.321100e+14    1306.200000       0.276560       0.000000  \n",
       "50%    1.327500e+16    3228.000000       0.473440       0.000000  \n",
       "75%    5.278700e+16    6137.900000       0.746210       1.000000  \n",
       "max    3.249900e+17   13151.000000       2.743600       1.000000  \n",
       "\n",
       "[8 rows x 120 columns]"
      ]
     },
     "execution_count": 3,
     "metadata": {},
     "output_type": "execute_result"
    }
   ],
   "source": [
    "train_df.describe()"
   ]
  },
  {
   "cell_type": "code",
   "execution_count": 4,
   "metadata": {
    "tags": []
   },
   "outputs": [
    {
     "data": {
      "text/plain": [
       "count      120.000000\n",
       "mean     15173.183333\n",
       "std       1986.811943\n",
       "min          0.000000\n",
       "25%      15357.500000\n",
       "50%      15436.000000\n",
       "75%      15507.500000\n",
       "max      15678.000000\n",
       "dtype: float64"
      ]
     },
     "execution_count": 4,
     "metadata": {},
     "output_type": "execute_result"
    }
   ],
   "source": [
    "train_df.isna().sum().describe()"
   ]
  },
  {
   "cell_type": "code",
   "execution_count": 5,
   "metadata": {
    "tags": []
   },
   "outputs": [
    {
     "name": "stdout",
     "output_type": "stream",
     "text": [
      "(957919, 118) (957919,)\n",
      "(718439, 118) (239480, 118) (718439,) (239480,)\n"
     ]
    }
   ],
   "source": [
    "X, y = train_df.iloc[:, 1:-1], train_df.iloc[:, -1]\n",
    "print(X.shape, y.shape)\n",
    "X_train, X_test, y_train, y_test = train_test_split(X, y, random_state=33)\n",
    "print(X_train.shape, X_test.shape, y_train.shape, y_test.shape)"
   ]
  },
  {
   "cell_type": "code",
   "execution_count": 6,
   "metadata": {
    "tags": []
   },
   "outputs": [
    {
     "data": {
      "text/plain": [
       "<AxesSubplot:>"
      ]
     },
     "execution_count": 6,
     "metadata": {},
     "output_type": "execute_result"
    },
    {
     "data": {
      "image/png": "[encoded data removed]",
      "text/plain": [
       "<Figure size 432x288 with 1 Axes>"
      ]
     },
     "metadata": {
      "needs_background": "light"
     },
     "output_type": "display_data"
    }
   ],
   "source": [
    "results = []\n",
    "for n_params in [1, 2, 4, 10, 20, 50, 100]:\n",
    "    pipe = make_pipeline(\n",
    "        SimpleImputer(strategy='mean'),\n",
    "        PowerTransformer(),\n",
    "        SelectKBest(f_classif, k=n_params),\n",
    "        LogisticRegression(random_state=33, n_jobs=-1)\n",
    "    )\n",
    "    pipe.fit(X_train, y_train)\n",
    "    score = pipe.score(X_test, y_test)\n",
    "    results.append([n_params, score])\n",
    "\n",
    "sns.scatterplot(x=[i[0] for i in results], y=[i[1] for i in results])"
   ]
  },
  {
   "cell_type": "code",
   "execution_count": 7,
   "metadata": {
    "tags": []
   },
   "outputs": [
    {
     "data": {
      "text/plain": [
       "<AxesSubplot:>"
      ]
     },
     "execution_count": 7,
     "metadata": {},
     "output_type": "execute_result"
    },
    {
     "data": {
      "image/png": "[encoded data removed]",
      "text/plain": [
       "<Figure size 432x288 with 1 Axes>"
      ]
     },
     "metadata": {
      "needs_background": "light"
     },
     "output_type": "display_data"
    }
   ],
   "source": [
    "results = []\n",
    "for n_params in [1, 2, 4, 10, 20, 50, 100]:\n",
    "    pipe = make_pipeline(\n",
    "        SimpleImputer(strategy='mean'),\n",
    "        PowerTransformer(),\n",
    "        SelectKBest(f_classif, k=n_params),\n",
    "        RandomForestClassifier(random_state=33, n_jobs=-1)\n",
    "    )\n",
    "    pipe.fit(X_train, y_train)\n",
    "    score = pipe.score(X_test, y_test)\n",
    "    results.append([n_params, score])\n",
    "\n",
    "sns.scatterplot(x=[i[0] for i in results], y=[i[1] for i in results])"
   ]
  }
 ],
 "metadata": {
  "kernelspec": {
   "display_name": "Python 3 (ipykernel)",
   "language": "python",
   "name": "python3"
  },
  "language_info": {
   "codemirror_mode": {
    "name": "ipython",
    "version": 3
   },
   "file_extension": ".py",
   "mimetype": "text/x-python",
   "name": "python",
   "nbconvert_exporter": "python",
   "pygments_lexer": "ipython3",
   "version": "3.9.4"
  }
 },
 "nbformat": 4,
 "nbformat_minor": 4
}
